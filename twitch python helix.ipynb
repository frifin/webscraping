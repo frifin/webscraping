{
 "cells": [
  {
   "cell_type": "code",
   "execution_count": null,
   "metadata": {},
   "outputs": [],
   "source": [
    "##这一份文件使用的是twitch-python，是新api(helix api)\n",
    "\n",
    "##check the following sites for instructions and documentations\n",
    "##https://pypi.org/project/twitch-python/\n",
    "##https://dev.twitch.tv/docs/api/reference\n",
    "\n",
    "\n",
    "##所有符号不能改动，注意不要删掉逗号和冒号，不要修改indentation--whichmeans不要随意多加空格，不要随意按tab"
   ]
  },
  {
   "cell_type": "code",
   "execution_count": 29,
   "metadata": {},
   "outputs": [],
   "source": [
    "##导入需要的库\n",
    "import twitch\n",
    "import pandas as pd\n",
    "##设定helix值，引入client ID 否则会没有权限\n",
    "helix = twitch.Helix('xbroqcshyr3b93oiyq62zie5inbqrd')"
   ]
  },
  {
   "cell_type": "code",
   "execution_count": 2,
   "metadata": {},
   "outputs": [
    {
     "name": "stdout",
     "output_type": "stream",
     "text": [
      "['가브리엘', 'kyliebitkin', 'stylishnoob4', 'xQcOW', 'HoN_BoYa', 'Avori', 'fps_shaka', 'Ranger', 'mrfreshasian', 'Slushpuppy', 'Welyn', 'x2Twins', 'pokelawls', 'CrReaM', 'BurkeBlack', 'wasuezqelusia', 'chocoTaco', 'CoconutB', 'ShackyHD', 'MarkiLokurasY', 'Mizkif']\n"
     ]
    }
   ],
   "source": [
    "##这一section 用于爬去users的name，就是他们显示的id，而非url后的id\n",
    "##for 这一loop后括号输入你所有想要爬去的用户的urlid，也就是他们的真实user id，而不是名字\n",
    "##注意保持原格式\n",
    "##所有的name会被存储在一个叫display_name的list里\n",
    "\n",
    "display_name = []\n",
    "for user in helix.users('chocotaco', 'avori', 'hon_boya', 'stylishnoob4', 'fps_shaka', 'xqcow', 'wasuezqelusia', 'mrfreshasian', 'markilokurasy', 'x2twins', 'ranger', 'slushpuppy', 'kyliebitkin', 'coconutb', 'shackyhd', 'welyn', 'gabrielcro', 'burkeblack', 'pokelawls', 'crream', 'mizkif'):\n",
    "    display_name.append(user.display_name)\n",
    "\n",
    "print (display_name)\n",
    "    "
   ]
  },
  {
   "cell_type": "code",
   "execution_count": 3,
   "metadata": {},
   "outputs": [
    {
     "name": "stdout",
     "output_type": "stream",
     "text": [
      "[7790764, 1497553, 28879477, 72667377, 3275288, 2226654, 17924520, 1792833, 9577721, 1975613, 925532, 2413223, 16851341, 14921348, 20836854, 15002125, 29213466, 4039195, 6364087, 9676404, 5472342]\n"
     ]
    }
   ],
   "source": [
    "##用于保存总view\n",
    "##保存至view_count这一list里\n",
    "\n",
    "view_count = []\n",
    "for user in helix.users('chocotaco', 'avori', 'hon_boya', 'stylishnoob4', 'fps_shaka', 'xqcow', 'wasuezqelusia', 'mrfreshasian', 'markilokurasy', 'x2twins', 'ranger', 'slushpuppy', 'kyliebitkin', 'coconutb', 'shackyhd', 'welyn', 'gabrielcro', 'burkeblack', 'pokelawls', 'crream', 'mizkif'):\n",
    "    view_count.append(user.view_count)\n",
    "    \n",
    "    \n",
    "print (view_count)"
   ]
  },
  {
   "cell_type": "code",
   "execution_count": 4,
   "metadata": {},
   "outputs": [],
   "source": [
    "##保存数字id\n",
    "\n",
    "userid = []\n",
    "for user in helix.users('chocotaco', 'avori', 'hon_boya', 'stylishnoob4', 'fps_shaka', 'xqcow', 'wasuezqelusia', 'mrfreshasian', 'markilokurasy', 'x2twins', 'ranger', 'slushpuppy', 'kyliebitkin', 'coconutb', 'shackyhd', 'welyn', 'gabrielcro', 'burkeblack', 'pokelawls', 'crream', 'mizkif'):\n",
    "    userid.append(user.id)\n",
    "    \n",
    "    \n"
   ]
  },
  {
   "cell_type": "code",
   "execution_count": 27,
   "metadata": {},
   "outputs": [
    {
     "name": "stderr",
     "output_type": "stream",
     "text": [
      "/anaconda3/lib/python3.7/site-packages/ipykernel_launcher.py:2: FutureWarning: from_items is deprecated. Please use DataFrame.from_dict(dict(items), ...) instead. DataFrame.from_dict(OrderedDict(items)) may be used to preserve the key order.\n",
      "  \n"
     ]
    }
   ],
   "source": [
    "##将所有lists合并并转成dataframe格式\n",
    "\n",
    "\n",
    "chart = [('name', display_name), ('views', view_count), ('id', userid)]\n",
    "df1 = pd.DataFrame.from_items(chart)\n",
    "\n",
    "##保存成csv，括号里为文件名，文件存储在根目录\n",
    "df1.to_csv('info.csv') \n",
    "\n",
    "\n",
    "\n",
    "##至此基本信息保存完毕，使用twitch-python对基本信息进行保存完毕；后续需要用python-twitch-client进行对follwers的爬取\n"
   ]
  },
  {
   "cell_type": "code",
   "execution_count": 39,
   "metadata": {},
   "outputs": [
    {
     "name": "stderr",
     "output_type": "stream",
     "text": [
      "/anaconda3/lib/python3.7/site-packages/ipykernel_launcher.py:43: FutureWarning: from_items is deprecated. Please use DataFrame.from_dict(dict(items), ...) instead. DataFrame.from_dict(OrderedDict(items)) may be used to preserve the key order.\n"
     ]
    }
   ],
   "source": [
    "##这一section开始对视频信息进行爬取\n",
    "\n",
    "##namelist同上一章节，输入所有想要爬取的userid，注意按照原格式进行输入\n",
    "\n",
    "namelist = ['welyn', 'gabrielcro', 'burkeblack', 'pokelawls', 'crream', 'mizkif']\n",
    "\n",
    "\n",
    "##定义函数，不需要懂\n",
    "##如果想要限制范围，如爬去前100个视频， 在videos后的括号中输入first=数量， eg for user, videos in helix.users(username).videos(limit = 20):\n",
    "def get_video_info(username):\n",
    "    title = []\n",
    "    for user, videos in helix.users(username).videos():\n",
    "        for video in videos:\n",
    "            title.append(video.title) \n",
    "\n",
    "\n",
    "    language = []\n",
    "    for user, videos in helix.users(username).videos():\n",
    "        for video in videos:\n",
    "            language.append(video.language)      \n",
    "    \n",
    "        \n",
    "        \n",
    "        \n",
    "    viewcount = []\n",
    "    for user, videos in helix.users(username).videos():\n",
    "        for video in videos:\n",
    "            viewcount.append(video.view_count) \n",
    "        \n",
    "        \n",
    "    url = []\n",
    "    for user, videos in helix.users(username).videos():\n",
    "        for video in videos:\n",
    "            url.append(video.url)      \n",
    "\n",
    "        \n",
    "    videoid = []\n",
    "    for user, videos in helix.users(username).videos():\n",
    "        for video in videos:\n",
    "            videoid.append(video.id) \n",
    "            \n",
    "    createtime = []\n",
    "    for user, videos in helix.users(username).videos():\n",
    "        for video in videos:\n",
    "            createtime.append(video.created_at)    \n",
    "\n",
    "    chart = [('title', title), ('language', language), ('viewcount', viewcount), ('url', url), ('id', videoid), ('time', createtime)]\n",
    "    df = pd.DataFrame.from_items(chart)\n",
    "    \n",
    "    df.to_csv(username + '.csv') \n",
    "\n",
    "    \n",
    "##跑函数\n",
    "##在for这个循环里他会跑完所有namelist里面的值\n",
    "for a in namelist:\n",
    "    get_video_info(a)\n",
    "\n",
    "    \n",
    "    \n",
    "    \n",
    "##至此所有用twitch-python进行的运算结束\n",
    "##请看下一个文档添加videos的game信息和user的followers信息"
   ]
  },
  {
   "cell_type": "code",
   "execution_count": null,
   "metadata": {},
   "outputs": [],
   "source": []
  }
 ],
 "metadata": {
  "kernelspec": {
   "display_name": "Python 3",
   "language": "python",
   "name": "python3"
  },
  "language_info": {
   "codemirror_mode": {
    "name": "ipython",
    "version": 3
   },
   "file_extension": ".py",
   "mimetype": "text/x-python",
   "name": "python",
   "nbconvert_exporter": "python",
   "pygments_lexer": "ipython3",
   "version": "3.7.3"
  },
  "toc": {
   "base_numbering": 1,
   "nav_menu": {},
   "number_sections": true,
   "sideBar": true,
   "skip_h1_title": false,
   "title_cell": "Table of Contents",
   "title_sidebar": "Contents",
   "toc_cell": false,
   "toc_position": {},
   "toc_section_display": true,
   "toc_window_display": false
  }
 },
 "nbformat": 4,
 "nbformat_minor": 2
}
