{
 "cells": [
  {
   "cell_type": "code",
   "execution_count": 1,
   "metadata": {},
   "outputs": [],
   "source": [
    "# coding=UTF-8\n",
    "\n",
    "from urllib.request import urlopen\n",
    "from urllib.parse import quote\n",
    "from bs4 import BeautifulSoup\n",
    "import re\n",
    "import pandas as pd\n",
    "\n",
    "##定义getrank函数，以获取超链接内的信息rank\n",
    "def getrank (animeurl):\n",
    "    html = urlopen(animeurl)\n",
    "    bslink = BeautifulSoup(html.read(), 'html.parser')\n",
    "    \n",
    "##找到rank，并且修理格式\n",
    "    rank = bslink.find('span', {'class' : 'numbers ranked'}).get_text().replace('Ranked #', '')\n",
    "    return rank\n",
    "    \n",
    "    \n",
    "\n",
    "\n",
    "\n"
   ]
  },
  {
   "cell_type": "code",
   "execution_count": 2,
   "metadata": {},
   "outputs": [],
   "source": [
    "##定义主函数\n",
    "def spring19():\n",
    "    html = urlopen('https://myanimelist.net/anime/season/2019/spring')\n",
    "    bs = BeautifulSoup(html.read(), 'html.parser')\n",
    "\n",
    "##找到所有动画的跳转超链接并合成列表\n",
    "    link = []\n",
    "    for x in bs.find_all('a', {'class' : 'link-title'}):\n",
    "        link.append(x.get(\"href\"))\n",
    "        \n",
    "##创建rank的list，并且处理特殊字符    \n",
    "    ranklist = []\n",
    "    for x in link:\n",
    "        x = quote(x, safe='/:?=&')\n",
    "        ranklist.append(getrank(x))\n",
    "    \n",
    "    \n",
    "    \n",
    "##爬取动画标题和制作公司    \n",
    "    animename1 = bs.find_all('p', {'class' : 'title-text'})\n",
    "    producer1 = bs.find_all('span', {'class' : 'producer'})\n",
    "    \n",
    "\n",
    "\n",
    "    animename = []\n",
    "    for x in animename1:\n",
    "        \n",
    "        animename.append(x.get_text().strip().replace(\"\\n\", \"\"))\n",
    "           \n",
    "    producer = []\n",
    "    for x in producer1:\n",
    "        producer.append(x.get_text().strip().replace(\"\\n\", \"\"))\n",
    "        \n",
    "        \n",
    "        \n",
    "        \n",
    "\n",
    "##合成一个dataframe并保存\n",
    "\n",
    "    chart = [('animename', animename), ('producer', producer), ('rank', ranklist)]\n",
    "    \n",
    "    df = pd.DataFrame.from_items(chart)\n",
    "    \n",
    "    \n",
    "    df.to_csv('spring19.csv') \n",
    "    \n",
    "    \n",
    "    \n",
    "    \n",
    "   \n",
    "\n"
   ]
  },
  {
   "cell_type": "code",
   "execution_count": 3,
   "metadata": {},
   "outputs": [
    {
     "name": "stderr",
     "output_type": "stream",
     "text": [
      "/anaconda3/lib/python3.7/site-packages/ipykernel_launcher.py:42: FutureWarning: from_items is deprecated. Please use DataFrame.from_dict(dict(items), ...) instead. DataFrame.from_dict(OrderedDict(items)) may be used to preserve the key order.\n"
     ]
    }
   ],
   "source": [
    "\n",
    "\n",
    "spring19()\n",
    "    \n"
   ]
  },
  {
   "cell_type": "code",
   "execution_count": null,
   "metadata": {},
   "outputs": [],
   "source": []
  }
 ],
 "metadata": {
  "kernelspec": {
   "display_name": "Python 3",
   "language": "python",
   "name": "python3"
  },
  "language_info": {
   "codemirror_mode": {
    "name": "ipython",
    "version": 3
   },
   "file_extension": ".py",
   "mimetype": "text/x-python",
   "name": "python",
   "nbconvert_exporter": "python",
   "pygments_lexer": "ipython3",
   "version": "3.7.3"
  },
  "toc": {
   "base_numbering": 1,
   "nav_menu": {},
   "number_sections": true,
   "sideBar": true,
   "skip_h1_title": false,
   "title_cell": "Table of Contents",
   "title_sidebar": "Contents",
   "toc_cell": false,
   "toc_position": {},
   "toc_section_display": true,
   "toc_window_display": false
  }
 },
 "nbformat": 4,
 "nbformat_minor": 2
}
